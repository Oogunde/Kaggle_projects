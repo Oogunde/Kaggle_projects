{
 "cells": [
  {
   "cell_type": "code",
   "execution_count": 1,
   "id": "37c48ef6",
   "metadata": {
    "_cell_guid": "b1076dfc-b9ad-4769-8c92-a6c4dae69d19",
    "_uuid": "8f2839f25d086af736a60e9eeb907d3b93b6e0e5",
    "execution": {
     "iopub.execute_input": "2023-08-10T17:05:08.287832Z",
     "iopub.status.busy": "2023-08-10T17:05:08.287048Z",
     "iopub.status.idle": "2023-08-10T17:05:08.301504Z",
     "shell.execute_reply": "2023-08-10T17:05:08.300497Z"
    },
    "papermill": {
     "duration": 0.025979,
     "end_time": "2023-08-10T17:05:08.303665",
     "exception": false,
     "start_time": "2023-08-10T17:05:08.277686",
     "status": "completed"
    },
    "tags": []
   },
   "outputs": [
    {
     "name": "stdout",
     "output_type": "stream",
     "text": [
      "/kaggle/input/house-prices-advanced-regression-techniques/sample_submission.csv\n",
      "/kaggle/input/house-prices-advanced-regression-techniques/data_description.txt\n",
      "/kaggle/input/house-prices-advanced-regression-techniques/train.csv\n",
      "/kaggle/input/house-prices-advanced-regression-techniques/test.csv\n"
     ]
    }
   ],
   "source": [
    "# This Python 3 environment comes with many helpful analytics libraries installed\n",
    "# It is defined by the kaggle/python Docker image: https://github.com/kaggle/docker-python\n",
    "# For example, here's several helpful packages to load\n",
    "\n",
    "import numpy as np # linear algebra\n",
    "import pandas as pd # data processing, CSV file I/O (e.g. pd.read_csv)\n",
    "\n",
    "# Input data files are available in the read-only \"../input/\" directory\n",
    "# For example, running this (by clicking run or pressing Shift+Enter) will list all files under the input directory\n",
    "\n",
    "import os\n",
    "for dirname, _, filenames in os.walk('/kaggle/input'):\n",
    "    for filename in filenames:\n",
    "        print(os.path.join(dirname, filename))\n",
    "\n",
    "# You can write up to 20GB to the current directory (/kaggle/working/) that gets preserved as output when you create a version using \"Save & Run All\" \n",
    "# You can also write temporary files to /kaggle/temp/, but they won't be saved outside of the current session"
   ]
  },
  {
   "cell_type": "code",
   "execution_count": 2,
   "id": "22e27def",
   "metadata": {
    "execution": {
     "iopub.execute_input": "2023-08-10T17:05:08.318617Z",
     "iopub.status.busy": "2023-08-10T17:05:08.317995Z",
     "iopub.status.idle": "2023-08-10T17:05:10.736042Z",
     "shell.execute_reply": "2023-08-10T17:05:10.734875Z"
    },
    "papermill": {
     "duration": 2.428416,
     "end_time": "2023-08-10T17:05:10.738765",
     "exception": false,
     "start_time": "2023-08-10T17:05:08.310349",
     "status": "completed"
    },
    "tags": []
   },
   "outputs": [
    {
     "name": "stderr",
     "output_type": "stream",
     "text": [
      "/opt/conda/lib/python3.10/site-packages/scipy/__init__.py:146: UserWarning: A NumPy version >=1.16.5 and <1.23.0 is required for this version of SciPy (detected version 1.23.5\n",
      "  warnings.warn(f\"A NumPy version >={np_minversion} and <{np_maxversion}\"\n"
     ]
    }
   ],
   "source": [
    "import seaborn as sns\n",
    "from sklearn.compose import ColumnTransformer\n",
    "from sklearn.pipeline import Pipeline\n",
    "from sklearn.impute import SimpleImputer \n",
    "from sklearn.preprocessing import OneHotEncoder, StandardScaler\n",
    "from sklearn.linear_model import LinearRegression\n",
    "from sklearn.ensemble import RandomForestRegressor\n",
    "from sklearn.model_selection import cross_val_score, KFold, GridSearchCV\n",
    "from xgboost import XGBRegressor\n",
    "from sklearn.model_selection import train_test_split\n",
    "from sklearn.neural_network import MLPRegressor\n",
    "from sklearn.decomposition import PCA"
   ]
  },
  {
   "cell_type": "code",
   "execution_count": 3,
   "id": "1eb09f38",
   "metadata": {
    "execution": {
     "iopub.execute_input": "2023-08-10T17:05:10.754163Z",
     "iopub.status.busy": "2023-08-10T17:05:10.753801Z",
     "iopub.status.idle": "2023-08-10T17:05:10.840194Z",
     "shell.execute_reply": "2023-08-10T17:05:10.838816Z"
    },
    "papermill": {
     "duration": 0.097153,
     "end_time": "2023-08-10T17:05:10.842769",
     "exception": false,
     "start_time": "2023-08-10T17:05:10.745616",
     "status": "completed"
    },
    "tags": []
   },
   "outputs": [],
   "source": [
    "df = pd.read_csv('/kaggle/input/house-prices-advanced-regression-techniques/train.csv')\n",
    "df_test = pd.read_csv('/kaggle/input/house-prices-advanced-regression-techniques/test.csv')"
   ]
  },
  {
   "cell_type": "code",
   "execution_count": 4,
   "id": "53a612ad",
   "metadata": {
    "execution": {
     "iopub.execute_input": "2023-08-10T17:05:10.859909Z",
     "iopub.status.busy": "2023-08-10T17:05:10.859533Z",
     "iopub.status.idle": "2023-08-10T17:05:10.901295Z",
     "shell.execute_reply": "2023-08-10T17:05:10.900249Z"
    },
    "papermill": {
     "duration": 0.054399,
     "end_time": "2023-08-10T17:05:10.903885",
     "exception": false,
     "start_time": "2023-08-10T17:05:10.849486",
     "status": "completed"
    },
    "tags": []
   },
   "outputs": [
    {
     "name": "stdout",
     "output_type": "stream",
     "text": [
      "<class 'pandas.core.frame.DataFrame'>\n",
      "RangeIndex: 1460 entries, 0 to 1459\n",
      "Data columns (total 81 columns):\n",
      " #   Column         Non-Null Count  Dtype  \n",
      "---  ------         --------------  -----  \n",
      " 0   Id             1460 non-null   int64  \n",
      " 1   MSSubClass     1460 non-null   int64  \n",
      " 2   MSZoning       1460 non-null   object \n",
      " 3   LotFrontage    1201 non-null   float64\n",
      " 4   LotArea        1460 non-null   int64  \n",
      " 5   Street         1460 non-null   object \n",
      " 6   Alley          91 non-null     object \n",
      " 7   LotShape       1460 non-null   object \n",
      " 8   LandContour    1460 non-null   object \n",
      " 9   Utilities      1460 non-null   object \n",
      " 10  LotConfig      1460 non-null   object \n",
      " 11  LandSlope      1460 non-null   object \n",
      " 12  Neighborhood   1460 non-null   object \n",
      " 13  Condition1     1460 non-null   object \n",
      " 14  Condition2     1460 non-null   object \n",
      " 15  BldgType       1460 non-null   object \n",
      " 16  HouseStyle     1460 non-null   object \n",
      " 17  OverallQual    1460 non-null   int64  \n",
      " 18  OverallCond    1460 non-null   int64  \n",
      " 19  YearBuilt      1460 non-null   int64  \n",
      " 20  YearRemodAdd   1460 non-null   int64  \n",
      " 21  RoofStyle      1460 non-null   object \n",
      " 22  RoofMatl       1460 non-null   object \n",
      " 23  Exterior1st    1460 non-null   object \n",
      " 24  Exterior2nd    1460 non-null   object \n",
      " 25  MasVnrType     1452 non-null   object \n",
      " 26  MasVnrArea     1452 non-null   float64\n",
      " 27  ExterQual      1460 non-null   object \n",
      " 28  ExterCond      1460 non-null   object \n",
      " 29  Foundation     1460 non-null   object \n",
      " 30  BsmtQual       1423 non-null   object \n",
      " 31  BsmtCond       1423 non-null   object \n",
      " 32  BsmtExposure   1422 non-null   object \n",
      " 33  BsmtFinType1   1423 non-null   object \n",
      " 34  BsmtFinSF1     1460 non-null   int64  \n",
      " 35  BsmtFinType2   1422 non-null   object \n",
      " 36  BsmtFinSF2     1460 non-null   int64  \n",
      " 37  BsmtUnfSF      1460 non-null   int64  \n",
      " 38  TotalBsmtSF    1460 non-null   int64  \n",
      " 39  Heating        1460 non-null   object \n",
      " 40  HeatingQC      1460 non-null   object \n",
      " 41  CentralAir     1460 non-null   object \n",
      " 42  Electrical     1459 non-null   object \n",
      " 43  1stFlrSF       1460 non-null   int64  \n",
      " 44  2ndFlrSF       1460 non-null   int64  \n",
      " 45  LowQualFinSF   1460 non-null   int64  \n",
      " 46  GrLivArea      1460 non-null   int64  \n",
      " 47  BsmtFullBath   1460 non-null   int64  \n",
      " 48  BsmtHalfBath   1460 non-null   int64  \n",
      " 49  FullBath       1460 non-null   int64  \n",
      " 50  HalfBath       1460 non-null   int64  \n",
      " 51  BedroomAbvGr   1460 non-null   int64  \n",
      " 52  KitchenAbvGr   1460 non-null   int64  \n",
      " 53  KitchenQual    1460 non-null   object \n",
      " 54  TotRmsAbvGrd   1460 non-null   int64  \n",
      " 55  Functional     1460 non-null   object \n",
      " 56  Fireplaces     1460 non-null   int64  \n",
      " 57  FireplaceQu    770 non-null    object \n",
      " 58  GarageType     1379 non-null   object \n",
      " 59  GarageYrBlt    1379 non-null   float64\n",
      " 60  GarageFinish   1379 non-null   object \n",
      " 61  GarageCars     1460 non-null   int64  \n",
      " 62  GarageArea     1460 non-null   int64  \n",
      " 63  GarageQual     1379 non-null   object \n",
      " 64  GarageCond     1379 non-null   object \n",
      " 65  PavedDrive     1460 non-null   object \n",
      " 66  WoodDeckSF     1460 non-null   int64  \n",
      " 67  OpenPorchSF    1460 non-null   int64  \n",
      " 68  EnclosedPorch  1460 non-null   int64  \n",
      " 69  3SsnPorch      1460 non-null   int64  \n",
      " 70  ScreenPorch    1460 non-null   int64  \n",
      " 71  PoolArea       1460 non-null   int64  \n",
      " 72  PoolQC         7 non-null      object \n",
      " 73  Fence          281 non-null    object \n",
      " 74  MiscFeature    54 non-null     object \n",
      " 75  MiscVal        1460 non-null   int64  \n",
      " 76  MoSold         1460 non-null   int64  \n",
      " 77  YrSold         1460 non-null   int64  \n",
      " 78  SaleType       1460 non-null   object \n",
      " 79  SaleCondition  1460 non-null   object \n",
      " 80  SalePrice      1460 non-null   int64  \n",
      "dtypes: float64(3), int64(35), object(43)\n",
      "memory usage: 924.0+ KB\n"
     ]
    }
   ],
   "source": [
    "df.info()"
   ]
  },
  {
   "cell_type": "markdown",
   "id": "35e55091",
   "metadata": {
    "execution": {
     "iopub.execute_input": "2023-08-08T16:04:13.011401Z",
     "iopub.status.busy": "2023-08-08T16:04:13.010919Z",
     "iopub.status.idle": "2023-08-08T16:04:13.018339Z",
     "shell.execute_reply": "2023-08-08T16:04:13.017093Z",
     "shell.execute_reply.started": "2023-08-08T16:04:13.011366Z"
    },
    "papermill": {
     "duration": 0.006535,
     "end_time": "2023-08-10T17:05:10.917359",
     "exception": false,
     "start_time": "2023-08-10T17:05:10.910824",
     "status": "completed"
    },
    "tags": []
   },
   "source": [
    "As there are features that have more missing than known values,\n",
    "it would be better to drop their coloumns opposed to imputing them."
   ]
  },
  {
   "cell_type": "code",
   "execution_count": 5,
   "id": "fce3cbeb",
   "metadata": {
    "execution": {
     "iopub.execute_input": "2023-08-10T17:05:10.932312Z",
     "iopub.status.busy": "2023-08-10T17:05:10.931919Z",
     "iopub.status.idle": "2023-08-10T17:05:10.941052Z",
     "shell.execute_reply": "2023-08-10T17:05:10.940221Z"
    },
    "papermill": {
     "duration": 0.019035,
     "end_time": "2023-08-10T17:05:10.942919",
     "exception": false,
     "start_time": "2023-08-10T17:05:10.923884",
     "status": "completed"
    },
    "tags": []
   },
   "outputs": [],
   "source": [
    "df.drop(['Alley', 'PoolQC', 'Fence', 'MiscFeature'], axis=1, inplace=True)"
   ]
  },
  {
   "cell_type": "code",
   "execution_count": 6,
   "id": "49630a14",
   "metadata": {
    "execution": {
     "iopub.execute_input": "2023-08-10T17:05:10.958708Z",
     "iopub.status.busy": "2023-08-10T17:05:10.957820Z",
     "iopub.status.idle": "2023-08-10T17:05:10.964722Z",
     "shell.execute_reply": "2023-08-10T17:05:10.964004Z"
    },
    "papermill": {
     "duration": 0.016487,
     "end_time": "2023-08-10T17:05:10.966575",
     "exception": false,
     "start_time": "2023-08-10T17:05:10.950088",
     "status": "completed"
    },
    "tags": []
   },
   "outputs": [
    {
     "data": {
      "text/plain": [
       "Index(['Id', 'MSSubClass', 'MSZoning', 'LotFrontage', 'LotArea', 'Street',\n",
       "       'LotShape', 'LandContour', 'Utilities', 'LotConfig', 'LandSlope',\n",
       "       'Neighborhood', 'Condition1', 'Condition2', 'BldgType', 'HouseStyle',\n",
       "       'OverallQual', 'OverallCond', 'YearBuilt', 'YearRemodAdd', 'RoofStyle',\n",
       "       'RoofMatl', 'Exterior1st', 'Exterior2nd', 'MasVnrType', 'MasVnrArea',\n",
       "       'ExterQual', 'ExterCond', 'Foundation', 'BsmtQual', 'BsmtCond',\n",
       "       'BsmtExposure', 'BsmtFinType1', 'BsmtFinSF1', 'BsmtFinType2',\n",
       "       'BsmtFinSF2', 'BsmtUnfSF', 'TotalBsmtSF', 'Heating', 'HeatingQC',\n",
       "       'CentralAir', 'Electrical', '1stFlrSF', '2ndFlrSF', 'LowQualFinSF',\n",
       "       'GrLivArea', 'BsmtFullBath', 'BsmtHalfBath', 'FullBath', 'HalfBath',\n",
       "       'BedroomAbvGr', 'KitchenAbvGr', 'KitchenQual', 'TotRmsAbvGrd',\n",
       "       'Functional', 'Fireplaces', 'FireplaceQu', 'GarageType', 'GarageYrBlt',\n",
       "       'GarageFinish', 'GarageCars', 'GarageArea', 'GarageQual', 'GarageCond',\n",
       "       'PavedDrive', 'WoodDeckSF', 'OpenPorchSF', 'EnclosedPorch', '3SsnPorch',\n",
       "       'ScreenPorch', 'PoolArea', 'MiscVal', 'MoSold', 'YrSold', 'SaleType',\n",
       "       'SaleCondition', 'SalePrice'],\n",
       "      dtype='object')"
      ]
     },
     "execution_count": 6,
     "metadata": {},
     "output_type": "execute_result"
    }
   ],
   "source": [
    "df.columns"
   ]
  },
  {
   "cell_type": "markdown",
   "id": "53eaaa89",
   "metadata": {
    "papermill": {
     "duration": 0.006382,
     "end_time": "2023-08-10T17:05:10.979831",
     "exception": false,
     "start_time": "2023-08-10T17:05:10.973449",
     "status": "completed"
    },
    "tags": []
   },
   "source": [
    "## Data visualisation"
   ]
  },
  {
   "cell_type": "code",
   "execution_count": 7,
   "id": "86ab7b2b",
   "metadata": {
    "execution": {
     "iopub.execute_input": "2023-08-10T17:05:10.995233Z",
     "iopub.status.busy": "2023-08-10T17:05:10.994568Z",
     "iopub.status.idle": "2023-08-10T17:05:11.022087Z",
     "shell.execute_reply": "2023-08-10T17:05:11.021296Z"
    },
    "papermill": {
     "duration": 0.037624,
     "end_time": "2023-08-10T17:05:11.024151",
     "exception": false,
     "start_time": "2023-08-10T17:05:10.986527",
     "status": "completed"
    },
    "tags": []
   },
   "outputs": [
    {
     "data": {
      "text/html": [
       "<div>\n",
       "<style scoped>\n",
       "    .dataframe tbody tr th:only-of-type {\n",
       "        vertical-align: middle;\n",
       "    }\n",
       "\n",
       "    .dataframe tbody tr th {\n",
       "        vertical-align: top;\n",
       "    }\n",
       "\n",
       "    .dataframe thead th {\n",
       "        text-align: right;\n",
       "    }\n",
       "</style>\n",
       "<table border=\"1\" class=\"dataframe\">\n",
       "  <thead>\n",
       "    <tr style=\"text-align: right;\">\n",
       "      <th></th>\n",
       "      <th>Id</th>\n",
       "      <th>MSSubClass</th>\n",
       "      <th>LotFrontage</th>\n",
       "      <th>LotArea</th>\n",
       "      <th>OverallQual</th>\n",
       "      <th>OverallCond</th>\n",
       "      <th>YearBuilt</th>\n",
       "      <th>YearRemodAdd</th>\n",
       "      <th>MasVnrArea</th>\n",
       "      <th>BsmtFinSF1</th>\n",
       "      <th>...</th>\n",
       "      <th>WoodDeckSF</th>\n",
       "      <th>OpenPorchSF</th>\n",
       "      <th>EnclosedPorch</th>\n",
       "      <th>3SsnPorch</th>\n",
       "      <th>ScreenPorch</th>\n",
       "      <th>PoolArea</th>\n",
       "      <th>MiscVal</th>\n",
       "      <th>MoSold</th>\n",
       "      <th>YrSold</th>\n",
       "      <th>SalePrice</th>\n",
       "    </tr>\n",
       "  </thead>\n",
       "  <tbody>\n",
       "    <tr>\n",
       "      <th>0</th>\n",
       "      <td>1</td>\n",
       "      <td>60</td>\n",
       "      <td>65.0</td>\n",
       "      <td>8450</td>\n",
       "      <td>7</td>\n",
       "      <td>5</td>\n",
       "      <td>2003</td>\n",
       "      <td>2003</td>\n",
       "      <td>196.0</td>\n",
       "      <td>706</td>\n",
       "      <td>...</td>\n",
       "      <td>0</td>\n",
       "      <td>61</td>\n",
       "      <td>0</td>\n",
       "      <td>0</td>\n",
       "      <td>0</td>\n",
       "      <td>0</td>\n",
       "      <td>0</td>\n",
       "      <td>2</td>\n",
       "      <td>2008</td>\n",
       "      <td>208500</td>\n",
       "    </tr>\n",
       "    <tr>\n",
       "      <th>1</th>\n",
       "      <td>2</td>\n",
       "      <td>20</td>\n",
       "      <td>80.0</td>\n",
       "      <td>9600</td>\n",
       "      <td>6</td>\n",
       "      <td>8</td>\n",
       "      <td>1976</td>\n",
       "      <td>1976</td>\n",
       "      <td>0.0</td>\n",
       "      <td>978</td>\n",
       "      <td>...</td>\n",
       "      <td>298</td>\n",
       "      <td>0</td>\n",
       "      <td>0</td>\n",
       "      <td>0</td>\n",
       "      <td>0</td>\n",
       "      <td>0</td>\n",
       "      <td>0</td>\n",
       "      <td>5</td>\n",
       "      <td>2007</td>\n",
       "      <td>181500</td>\n",
       "    </tr>\n",
       "    <tr>\n",
       "      <th>2</th>\n",
       "      <td>3</td>\n",
       "      <td>60</td>\n",
       "      <td>68.0</td>\n",
       "      <td>11250</td>\n",
       "      <td>7</td>\n",
       "      <td>5</td>\n",
       "      <td>2001</td>\n",
       "      <td>2002</td>\n",
       "      <td>162.0</td>\n",
       "      <td>486</td>\n",
       "      <td>...</td>\n",
       "      <td>0</td>\n",
       "      <td>42</td>\n",
       "      <td>0</td>\n",
       "      <td>0</td>\n",
       "      <td>0</td>\n",
       "      <td>0</td>\n",
       "      <td>0</td>\n",
       "      <td>9</td>\n",
       "      <td>2008</td>\n",
       "      <td>223500</td>\n",
       "    </tr>\n",
       "    <tr>\n",
       "      <th>3</th>\n",
       "      <td>4</td>\n",
       "      <td>70</td>\n",
       "      <td>60.0</td>\n",
       "      <td>9550</td>\n",
       "      <td>7</td>\n",
       "      <td>5</td>\n",
       "      <td>1915</td>\n",
       "      <td>1970</td>\n",
       "      <td>0.0</td>\n",
       "      <td>216</td>\n",
       "      <td>...</td>\n",
       "      <td>0</td>\n",
       "      <td>35</td>\n",
       "      <td>272</td>\n",
       "      <td>0</td>\n",
       "      <td>0</td>\n",
       "      <td>0</td>\n",
       "      <td>0</td>\n",
       "      <td>2</td>\n",
       "      <td>2006</td>\n",
       "      <td>140000</td>\n",
       "    </tr>\n",
       "    <tr>\n",
       "      <th>4</th>\n",
       "      <td>5</td>\n",
       "      <td>60</td>\n",
       "      <td>84.0</td>\n",
       "      <td>14260</td>\n",
       "      <td>8</td>\n",
       "      <td>5</td>\n",
       "      <td>2000</td>\n",
       "      <td>2000</td>\n",
       "      <td>350.0</td>\n",
       "      <td>655</td>\n",
       "      <td>...</td>\n",
       "      <td>192</td>\n",
       "      <td>84</td>\n",
       "      <td>0</td>\n",
       "      <td>0</td>\n",
       "      <td>0</td>\n",
       "      <td>0</td>\n",
       "      <td>0</td>\n",
       "      <td>12</td>\n",
       "      <td>2008</td>\n",
       "      <td>250000</td>\n",
       "    </tr>\n",
       "    <tr>\n",
       "      <th>...</th>\n",
       "      <td>...</td>\n",
       "      <td>...</td>\n",
       "      <td>...</td>\n",
       "      <td>...</td>\n",
       "      <td>...</td>\n",
       "      <td>...</td>\n",
       "      <td>...</td>\n",
       "      <td>...</td>\n",
       "      <td>...</td>\n",
       "      <td>...</td>\n",
       "      <td>...</td>\n",
       "      <td>...</td>\n",
       "      <td>...</td>\n",
       "      <td>...</td>\n",
       "      <td>...</td>\n",
       "      <td>...</td>\n",
       "      <td>...</td>\n",
       "      <td>...</td>\n",
       "      <td>...</td>\n",
       "      <td>...</td>\n",
       "      <td>...</td>\n",
       "    </tr>\n",
       "    <tr>\n",
       "      <th>1455</th>\n",
       "      <td>1456</td>\n",
       "      <td>60</td>\n",
       "      <td>62.0</td>\n",
       "      <td>7917</td>\n",
       "      <td>6</td>\n",
       "      <td>5</td>\n",
       "      <td>1999</td>\n",
       "      <td>2000</td>\n",
       "      <td>0.0</td>\n",
       "      <td>0</td>\n",
       "      <td>...</td>\n",
       "      <td>0</td>\n",
       "      <td>40</td>\n",
       "      <td>0</td>\n",
       "      <td>0</td>\n",
       "      <td>0</td>\n",
       "      <td>0</td>\n",
       "      <td>0</td>\n",
       "      <td>8</td>\n",
       "      <td>2007</td>\n",
       "      <td>175000</td>\n",
       "    </tr>\n",
       "    <tr>\n",
       "      <th>1456</th>\n",
       "      <td>1457</td>\n",
       "      <td>20</td>\n",
       "      <td>85.0</td>\n",
       "      <td>13175</td>\n",
       "      <td>6</td>\n",
       "      <td>6</td>\n",
       "      <td>1978</td>\n",
       "      <td>1988</td>\n",
       "      <td>119.0</td>\n",
       "      <td>790</td>\n",
       "      <td>...</td>\n",
       "      <td>349</td>\n",
       "      <td>0</td>\n",
       "      <td>0</td>\n",
       "      <td>0</td>\n",
       "      <td>0</td>\n",
       "      <td>0</td>\n",
       "      <td>0</td>\n",
       "      <td>2</td>\n",
       "      <td>2010</td>\n",
       "      <td>210000</td>\n",
       "    </tr>\n",
       "    <tr>\n",
       "      <th>1457</th>\n",
       "      <td>1458</td>\n",
       "      <td>70</td>\n",
       "      <td>66.0</td>\n",
       "      <td>9042</td>\n",
       "      <td>7</td>\n",
       "      <td>9</td>\n",
       "      <td>1941</td>\n",
       "      <td>2006</td>\n",
       "      <td>0.0</td>\n",
       "      <td>275</td>\n",
       "      <td>...</td>\n",
       "      <td>0</td>\n",
       "      <td>60</td>\n",
       "      <td>0</td>\n",
       "      <td>0</td>\n",
       "      <td>0</td>\n",
       "      <td>0</td>\n",
       "      <td>2500</td>\n",
       "      <td>5</td>\n",
       "      <td>2010</td>\n",
       "      <td>266500</td>\n",
       "    </tr>\n",
       "    <tr>\n",
       "      <th>1458</th>\n",
       "      <td>1459</td>\n",
       "      <td>20</td>\n",
       "      <td>68.0</td>\n",
       "      <td>9717</td>\n",
       "      <td>5</td>\n",
       "      <td>6</td>\n",
       "      <td>1950</td>\n",
       "      <td>1996</td>\n",
       "      <td>0.0</td>\n",
       "      <td>49</td>\n",
       "      <td>...</td>\n",
       "      <td>366</td>\n",
       "      <td>0</td>\n",
       "      <td>112</td>\n",
       "      <td>0</td>\n",
       "      <td>0</td>\n",
       "      <td>0</td>\n",
       "      <td>0</td>\n",
       "      <td>4</td>\n",
       "      <td>2010</td>\n",
       "      <td>142125</td>\n",
       "    </tr>\n",
       "    <tr>\n",
       "      <th>1459</th>\n",
       "      <td>1460</td>\n",
       "      <td>20</td>\n",
       "      <td>75.0</td>\n",
       "      <td>9937</td>\n",
       "      <td>5</td>\n",
       "      <td>6</td>\n",
       "      <td>1965</td>\n",
       "      <td>1965</td>\n",
       "      <td>0.0</td>\n",
       "      <td>830</td>\n",
       "      <td>...</td>\n",
       "      <td>736</td>\n",
       "      <td>68</td>\n",
       "      <td>0</td>\n",
       "      <td>0</td>\n",
       "      <td>0</td>\n",
       "      <td>0</td>\n",
       "      <td>0</td>\n",
       "      <td>6</td>\n",
       "      <td>2008</td>\n",
       "      <td>147500</td>\n",
       "    </tr>\n",
       "  </tbody>\n",
       "</table>\n",
       "<p>1460 rows × 38 columns</p>\n",
       "</div>"
      ],
      "text/plain": [
       "        Id  MSSubClass  LotFrontage  LotArea  OverallQual  OverallCond  \\\n",
       "0        1          60         65.0     8450            7            5   \n",
       "1        2          20         80.0     9600            6            8   \n",
       "2        3          60         68.0    11250            7            5   \n",
       "3        4          70         60.0     9550            7            5   \n",
       "4        5          60         84.0    14260            8            5   \n",
       "...    ...         ...          ...      ...          ...          ...   \n",
       "1455  1456          60         62.0     7917            6            5   \n",
       "1456  1457          20         85.0    13175            6            6   \n",
       "1457  1458          70         66.0     9042            7            9   \n",
       "1458  1459          20         68.0     9717            5            6   \n",
       "1459  1460          20         75.0     9937            5            6   \n",
       "\n",
       "      YearBuilt  YearRemodAdd  MasVnrArea  BsmtFinSF1  ...  WoodDeckSF  \\\n",
       "0          2003          2003       196.0         706  ...           0   \n",
       "1          1976          1976         0.0         978  ...         298   \n",
       "2          2001          2002       162.0         486  ...           0   \n",
       "3          1915          1970         0.0         216  ...           0   \n",
       "4          2000          2000       350.0         655  ...         192   \n",
       "...         ...           ...         ...         ...  ...         ...   \n",
       "1455       1999          2000         0.0           0  ...           0   \n",
       "1456       1978          1988       119.0         790  ...         349   \n",
       "1457       1941          2006         0.0         275  ...           0   \n",
       "1458       1950          1996         0.0          49  ...         366   \n",
       "1459       1965          1965         0.0         830  ...         736   \n",
       "\n",
       "      OpenPorchSF  EnclosedPorch  3SsnPorch  ScreenPorch  PoolArea  MiscVal  \\\n",
       "0              61              0          0            0         0        0   \n",
       "1               0              0          0            0         0        0   \n",
       "2              42              0          0            0         0        0   \n",
       "3              35            272          0            0         0        0   \n",
       "4              84              0          0            0         0        0   \n",
       "...           ...            ...        ...          ...       ...      ...   \n",
       "1455           40              0          0            0         0        0   \n",
       "1456            0              0          0            0         0        0   \n",
       "1457           60              0          0            0         0     2500   \n",
       "1458            0            112          0            0         0        0   \n",
       "1459           68              0          0            0         0        0   \n",
       "\n",
       "      MoSold  YrSold  SalePrice  \n",
       "0          2    2008     208500  \n",
       "1          5    2007     181500  \n",
       "2          9    2008     223500  \n",
       "3          2    2006     140000  \n",
       "4         12    2008     250000  \n",
       "...      ...     ...        ...  \n",
       "1455       8    2007     175000  \n",
       "1456       2    2010     210000  \n",
       "1457       5    2010     266500  \n",
       "1458       4    2010     142125  \n",
       "1459       6    2008     147500  \n",
       "\n",
       "[1460 rows x 38 columns]"
      ]
     },
     "execution_count": 7,
     "metadata": {},
     "output_type": "execute_result"
    }
   ],
   "source": [
    "# Separate numerical features\n",
    "df_num = df.select_dtypes(include = ['int64', 'float64'])\n",
    "df_num"
   ]
  },
  {
   "cell_type": "code",
   "execution_count": 8,
   "id": "726ed8b8",
   "metadata": {
    "execution": {
     "iopub.execute_input": "2023-08-10T17:05:11.040796Z",
     "iopub.status.busy": "2023-08-10T17:05:11.039894Z",
     "iopub.status.idle": "2023-08-10T17:05:20.423607Z",
     "shell.execute_reply": "2023-08-10T17:05:20.422507Z"
    },
    "papermill": {
     "duration": 9.396704,
     "end_time": "2023-08-10T17:05:20.428206",
     "exception": false,
     "start_time": "2023-08-10T17:05:11.031502",
     "status": "completed"
    },
    "tags": []
   },
   "outputs": [
    {
     "data": {
      "text/plain": [
       "array([[<Axes: title={'center': 'Id'}>,\n",
       "        <Axes: title={'center': 'MSSubClass'}>,\n",
       "        <Axes: title={'center': 'LotFrontage'}>,\n",
       "        <Axes: title={'center': 'LotArea'}>,\n",
       "        <Axes: title={'center': 'OverallQual'}>,\n",
       "        <Axes: title={'center': 'OverallCond'}>],\n",
       "       [<Axes: title={'center': 'YearBuilt'}>,\n",
       "        <Axes: title={'center': 'YearRemodAdd'}>,\n",
       "        <Axes: title={'center': 'MasVnrArea'}>,\n",
       "        <Axes: title={'center': 'BsmtFinSF1'}>,\n",
       "        <Axes: title={'center': 'BsmtFinSF2'}>,\n",
       "        <Axes: title={'center': 'BsmtUnfSF'}>],\n",
       "       [<Axes: title={'center': 'TotalBsmtSF'}>,\n",
       "        <Axes: title={'center': '1stFlrSF'}>,\n",
       "        <Axes: title={'center': '2ndFlrSF'}>,\n",
       "        <Axes: title={'center': 'LowQualFinSF'}>,\n",
       "        <Axes: title={'center': 'GrLivArea'}>,\n",
       "        <Axes: title={'center': 'BsmtFullBath'}>],\n",
       "       [<Axes: title={'center': 'BsmtHalfBath'}>,\n",
       "        <Axes: title={'center': 'FullBath'}>,\n",
       "        <Axes: title={'center': 'HalfBath'}>,\n",
       "        <Axes: title={'center': 'BedroomAbvGr'}>,\n",
       "        <Axes: title={'center': 'KitchenAbvGr'}>,\n",
       "        <Axes: title={'center': 'TotRmsAbvGrd'}>],\n",
       "       [<Axes: title={'center': 'Fireplaces'}>,\n",
       "        <Axes: title={'center': 'GarageYrBlt'}>,\n",
       "        <Axes: title={'center': 'GarageCars'}>,\n",
       "        <Axes: title={'center': 'GarageArea'}>,\n",
       "        <Axes: title={'center': 'WoodDeckSF'}>,\n",
       "        <Axes: title={'center': 'OpenPorchSF'}>],\n",
       "       [<Axes: title={'center': 'EnclosedPorch'}>,\n",
       "        <Axes: title={'center': '3SsnPorch'}>,\n",
       "        <Axes: title={'center': 'ScreenPorch'}>,\n",
       "        <Axes: title={'center': 'PoolArea'}>,\n",
       "        <Axes: title={'center': 'MiscVal'}>,\n",
       "        <Axes: title={'center': 'MoSold'}>],\n",
       "       [<Axes: title={'center': 'YrSold'}>,\n",
       "        <Axes: title={'center': 'SalePrice'}>, <Axes: >, <Axes: >,\n",
       "        <Axes: >, <Axes: >]], dtype=object)"
      ]
     },
     "execution_count": 8,
     "metadata": {},
     "output_type": "execute_result"
    },
    {
     "data": {
      "image/png": "[encoded data removed]",
      "text/plain": [
       "<Figure size 1600x2000 with 42 Axes>"
      ]
     },
     "metadata": {},
     "output_type": "display_data"
    }
   ],
   "source": [
    "# Create distribultions for the numerical features\n",
    "df_num.hist(figsize = (16, 20), bins=50)"
   ]
  },
  {
   "cell_type": "markdown",
   "id": "0ce87c02",
   "metadata": {
    "papermill": {
     "duration": 0.010636,
     "end_time": "2023-08-10T17:05:20.449958",
     "exception": false,
     "start_time": "2023-08-10T17:05:20.439322",
     "status": "completed"
    },
    "tags": []
   },
   "source": [
    "# Prepare the data by:\n",
    "* Imputing missing values, \n",
    "* Encode the categorical values"
   ]
  },
  {
   "cell_type": "code",
   "execution_count": 9,
   "id": "bd86f1c2",
   "metadata": {
    "execution": {
     "iopub.execute_input": "2023-08-10T17:05:20.473690Z",
     "iopub.status.busy": "2023-08-10T17:05:20.473158Z",
     "iopub.status.idle": "2023-08-10T17:05:20.480288Z",
     "shell.execute_reply": "2023-08-10T17:05:20.479542Z"
    },
    "papermill": {
     "duration": 0.021435,
     "end_time": "2023-08-10T17:05:20.482286",
     "exception": false,
     "start_time": "2023-08-10T17:05:20.460851",
     "status": "completed"
    },
    "tags": []
   },
   "outputs": [],
   "source": [
    "# Separate the categorical and numerical columns with their column labels\n",
    "df_cat = df.select_dtypes(include = ['object']).columns\n",
    "df_num = df.select_dtypes(include = ['int64', 'float64']).columns"
   ]
  },
  {
   "cell_type": "code",
   "execution_count": 10,
   "id": "4a91f371",
   "metadata": {
    "execution": {
     "iopub.execute_input": "2023-08-10T17:05:20.505656Z",
     "iopub.status.busy": "2023-08-10T17:05:20.504552Z",
     "iopub.status.idle": "2023-08-10T17:05:20.510836Z",
     "shell.execute_reply": "2023-08-10T17:05:20.509977Z"
    },
    "papermill": {
     "duration": 0.020379,
     "end_time": "2023-08-10T17:05:20.513175",
     "exception": false,
     "start_time": "2023-08-10T17:05:20.492796",
     "status": "completed"
    },
    "tags": []
   },
   "outputs": [],
   "source": [
    "# Define transformers for numerical features using a pipeline\n",
    "num_transformer = Pipeline(steps = [\n",
    "    ('imputer', SimpleImputer(strategy = 'mean')),\n",
    "    ('scaler', StandardScaler()) # data is on different scales so I scale it down\n",
    "])\n",
    "\n",
    "cat_transformer = Pipeline(steps = [\n",
    "    ('imputer', SimpleImputer(strategy = 'most_frequent')),\n",
    "    ('onehot', OneHotEncoder(handle_unknown='ignore', sparse_output=False))\n",
    "])"
   ]
  },
  {
   "cell_type": "code",
   "execution_count": 11,
   "id": "c5361031",
   "metadata": {
    "execution": {
     "iopub.execute_input": "2023-08-10T17:05:20.536760Z",
     "iopub.status.busy": "2023-08-10T17:05:20.535989Z",
     "iopub.status.idle": "2023-08-10T17:05:20.599274Z",
     "shell.execute_reply": "2023-08-10T17:05:20.597925Z"
    },
    "papermill": {
     "duration": 0.077812,
     "end_time": "2023-08-10T17:05:20.601817",
     "exception": false,
     "start_time": "2023-08-10T17:05:20.524005",
     "status": "completed"
    },
    "tags": []
   },
   "outputs": [],
   "source": [
    "# Drop the target feature (SalePrice) from the numerical data\n",
    "df_num = df_num.drop('SalePrice')\n",
    "\n",
    "# Bundle the preprocessing for numerical and categorical data\n",
    "preprocessor = ColumnTransformer(\n",
    "transformers = [\n",
    "    ('num', num_transformer, df_num),\n",
    "    ('cat', cat_transformer, df_cat)\n",
    "])\n",
    "\n",
    "# Fit preprocessor to dataset\n",
    "X = df.drop('SalePrice', axis=1) \n",
    "y = np.log(df['SalePrice']) # Apply log normalization to dependant variable\n",
    "# X doesnt need to be normalized as it was standardized in the pipeline.\n",
    "X_preprocessed = preprocessor.fit_transform(X)"
   ]
  },
  {
   "cell_type": "code",
   "execution_count": 12,
   "id": "bc4e9143",
   "metadata": {
    "execution": {
     "iopub.execute_input": "2023-08-10T17:05:20.625395Z",
     "iopub.status.busy": "2023-08-10T17:05:20.625049Z",
     "iopub.status.idle": "2023-08-10T17:16:39.607918Z",
     "shell.execute_reply": "2023-08-10T17:16:39.606622Z"
    },
    "papermill": {
     "duration": 679.008007,
     "end_time": "2023-08-10T17:16:39.620724",
     "exception": false,
     "start_time": "2023-08-10T17:05:20.612717",
     "status": "completed"
    },
    "tags": []
   },
   "outputs": [
    {
     "name": "stdout",
     "output_type": "stream",
     "text": [
      "Best parameters for LinearRegression: {}\n",
      "Best RMSE for LinearRegression: 1233110254.9846432\n",
      "Best parameters for XGBoost: {'learning_rate': 0.05, 'max_depth': 2, 'n_estimators': 700}\n",
      "Best RMSE for XGBoost: 0.12861266842076766\n",
      "Best parameters for RandomForest: {'max_depth': None, 'min_samples_split': 2, 'n_estimators': 700}\n",
      "Best RMSE for RandomForest: 0.15005844347923633\n"
     ]
    }
   ],
   "source": [
    "# Split training data into training and validation splits\n",
    "X_train, X_valid, y_train, y_valid = train_test_split(X_preprocessed, y, test_size=0.2, random_state=0)\n",
    "\n",
    "# Define the regression models\n",
    "models = {\n",
    "    'LinearRegression': LinearRegression(),\n",
    "    'XGBoost': XGBRegressor(random_state=0),\n",
    "    'RandomForest': RandomForestRegressor(random_state=0)\n",
    "}\n",
    "# Define hyperparameter grids for each model\n",
    "parameters = {\n",
    "    'LinearRegression': {},\n",
    "    'RandomForest': {\n",
    "        'n_estimators': [200, 400, 700],\n",
    "        'max_depth': [None, 10, 30],\n",
    "        'min_samples_split': [2, 5, 10]\n",
    "    },\n",
    "    'XGBoost': {\n",
    "        'n_estimators': [200, 400, 700],\n",
    "        'learning_rate': [0.01, 0.05, 0.2],\n",
    "        'max_depth': [2, 5, 9]\n",
    "    }\n",
    "}\n",
    "# Cross validation over 4 folds\n",
    "cv = KFold(n_splits=3, shuffle=True, random_state=0)\n",
    "\n",
    "# Train and tune the models\n",
    "grids = {}\n",
    "for model_name, model in models.items():\n",
    "    grids[model_name] = GridSearchCV(estimator=model, param_grid=parameters[model_name],\n",
    "                                cv=cv, scoring='neg_mean_squared_error')\n",
    "    grids[model_name].fit(X_train, y_train)\n",
    "    best_params = grids[model_name].best_params_\n",
    "    best_score = np.sqrt(-1*grids[model_name].best_score_)\n",
    "    \n",
    "    print(f'Best parameters for {model_name}: {best_params}')\n",
    "    print(f'Best RMSE for {model_name}: {best_score}')"
   ]
  },
  {
   "cell_type": "code",
   "execution_count": 13,
   "id": "37d6ec21",
   "metadata": {
    "execution": {
     "iopub.execute_input": "2023-08-10T17:16:39.644502Z",
     "iopub.status.busy": "2023-08-10T17:16:39.643466Z",
     "iopub.status.idle": "2023-08-10T17:18:25.773574Z",
     "shell.execute_reply": "2023-08-10T17:18:25.772333Z"
    },
    "papermill": {
     "duration": 106.164027,
     "end_time": "2023-08-10T17:18:25.795615",
     "exception": false,
     "start_time": "2023-08-10T17:16:39.631588",
     "status": "completed"
    },
    "tags": []
   },
   "outputs": [
    {
     "name": "stdout",
     "output_type": "stream",
     "text": [
      "Fitting 4 folds for each of 72 candidates, totalling 288 fits\n"
     ]
    },
    {
     "name": "stderr",
     "output_type": "stream",
     "text": [
      "/opt/conda/lib/python3.10/site-packages/scipy/__init__.py:146: UserWarning: A NumPy version >=1.16.5 and <1.23.0 is required for this version of SciPy (detected version 1.23.5\n",
      "  warnings.warn(f\"A NumPy version >={np_minversion} and <{np_maxversion}\"\n",
      "/opt/conda/lib/python3.10/site-packages/scipy/__init__.py:146: UserWarning: A NumPy version >=1.16.5 and <1.23.0 is required for this version of SciPy (detected version 1.23.5\n",
      "  warnings.warn(f\"A NumPy version >={np_minversion} and <{np_maxversion}\"\n",
      "/opt/conda/lib/python3.10/site-packages/scipy/__init__.py:146: UserWarning: A NumPy version >=1.16.5 and <1.23.0 is required for this version of SciPy (detected version 1.23.5\n",
      "  warnings.warn(f\"A NumPy version >={np_minversion} and <{np_maxversion}\"\n",
      "/opt/conda/lib/python3.10/site-packages/scipy/__init__.py:146: UserWarning: A NumPy version >=1.16.5 and <1.23.0 is required for this version of SciPy (detected version 1.23.5\n",
      "  warnings.warn(f\"A NumPy version >={np_minversion} and <{np_maxversion}\"\n"
     ]
    },
    {
     "name": "stdout",
     "output_type": "stream",
     "text": [
      "Best params: {'activation': 'relu', 'alpha': 0.01, 'hidden_layer_sizes': 25, 'learning_rate': 'constant', 'solver': 'adam'}\n",
      "Best score: 0.2022452519833326\n"
     ]
    }
   ],
   "source": [
    "X_train_scaled = X_train.copy()\n",
    "X_valid_scaled = X_valid.copy()\n",
    "\n",
    "# Create a multi layer perception regressor\n",
    "mlp = MLPRegressor(random_state=0, max_iter=10000, n_iter_no_change=3,learning_rate=0.002)\n",
    "\n",
    "param_grid = {\n",
    "    'hidden_layer_sizes': [(10), (10,10), (10,10,10), (25)],\n",
    "    'activation': ['relu', 'tanh'],\n",
    "    'solver': ['adam'],\n",
    "    'alpha': [0.0001, 0.001, 0.01],\n",
    "    'learning_rate': ['constant', 'invscaling', 'adaptive']\n",
    "}\n",
    "\n",
    "grid_search_mlp = GridSearchCV(mlp, param_grid, cv=4, n_jobs=-1, scoring='neg_mean_squared_error',\n",
    "                               verbose=1)\n",
    "grid_search_mlp.fit(X_train_scaled, y_train)\n",
    "\n",
    "print(f'Best params: {grid_search_mlp.best_params_}')\n",
    "best_score = np.sqrt(-1 * grid_search_mlp.best_score_)\n",
    "print(f'Best score: {best_score}')"
   ]
  },
  {
   "cell_type": "markdown",
   "id": "98d531da",
   "metadata": {
    "papermill": {
     "duration": 0.018489,
     "end_time": "2023-08-10T17:18:25.832770",
     "exception": false,
     "start_time": "2023-08-10T17:18:25.814281",
     "status": "completed"
    },
    "tags": []
   },
   "source": [
    "# Principal component analysis"
   ]
  },
  {
   "cell_type": "code",
   "execution_count": 14,
   "id": "21f2000c",
   "metadata": {
    "execution": {
     "iopub.execute_input": "2023-08-10T17:18:25.872856Z",
     "iopub.status.busy": "2023-08-10T17:18:25.872304Z",
     "iopub.status.idle": "2023-08-10T17:18:26.104212Z",
     "shell.execute_reply": "2023-08-10T17:18:26.102734Z"
    },
    "papermill": {
     "duration": 0.256077,
     "end_time": "2023-08-10T17:18:26.107599",
     "exception": false,
     "start_time": "2023-08-10T17:18:25.851522",
     "status": "completed"
    },
    "tags": []
   },
   "outputs": [],
   "source": [
    "# calculate new components that make up 95% of useful information\n",
    "pca = PCA(0.95)\n",
    "X_pca = pca.fit_transform(X_preprocessed)\n",
    "\n",
    "# Cumulative explained variance\n",
    "cumulative_explained_variance = np.cumsum(pca.explained_variance_ratio_)\n",
    "\n",
    "pca = PCA(n_components=pca.n_components_)\n",
    "pipeline_pca = Pipeline(steps = [\n",
    "    ('preprocessor', preprocessor),\n",
    "    ('pca', pca)\n",
    "])\n",
    "X_pca = pipeline_pca.fit_transform(X)"
   ]
  },
  {
   "cell_type": "code",
   "execution_count": 15,
   "id": "95dd4a0d",
   "metadata": {
    "execution": {
     "iopub.execute_input": "2023-08-10T17:18:26.175396Z",
     "iopub.status.busy": "2023-08-10T17:18:26.174869Z",
     "iopub.status.idle": "2023-08-10T17:38:37.946664Z",
     "shell.execute_reply": "2023-08-10T17:38:37.945616Z"
    },
    "papermill": {
     "duration": 1211.824793,
     "end_time": "2023-08-10T17:38:37.960435",
     "exception": false,
     "start_time": "2023-08-10T17:18:26.135642",
     "status": "completed"
    },
    "tags": []
   },
   "outputs": [
    {
     "name": "stdout",
     "output_type": "stream",
     "text": [
      "Best parameters for LinearRegression: {}\n",
      "Best RMSE for LinearRegression: 0.13773448701337299\n",
      "Best parameters for XGBoost: {'learning_rate': 0.05, 'max_depth': 2, 'n_estimators': 700}\n",
      "Best RMSE for XGBoost: 0.13776046133313785\n",
      "Best parameters for RandomForest: {'max_depth': None, 'min_samples_split': 2, 'n_estimators': 700}\n",
      "Best RMSE for RandomForest: 0.15001969898494152\n"
     ]
    }
   ],
   "source": [
    "# Split training data into training and validation splits\n",
    "X_train_pca, X_valid_pca, y_train_pca, y_valid_pca = train_test_split(X_pca, y, test_size=0.2,\n",
    "                                                                      random_state=0)\n",
    "\n",
    "# Define the regression models\n",
    "models = {\n",
    "    'LinearRegression': LinearRegression(),\n",
    "    'XGBoost': XGBRegressor(random_state=0),\n",
    "    'RandomForest': RandomForestRegressor(random_state=0)\n",
    "}\n",
    "# Define hyperparameter grids for each model\n",
    "parameters = {\n",
    "    'LinearRegression': {},\n",
    "    'RandomForest': {\n",
    "        'n_estimators': [200, 400, 700],\n",
    "        'max_depth': [None, 10, 30],\n",
    "        'min_samples_split': [2, 5, 10]\n",
    "    },\n",
    "    'XGBoost': {\n",
    "        'n_estimators': [200, 400, 700],\n",
    "        'learning_rate': [0.01, 0.05, 0.2],\n",
    "        'max_depth': [2, 5, 9]\n",
    "    }\n",
    "}\n",
    "# Cross validation over 4 folds\n",
    "cv = KFold(n_splits=3, shuffle=True, random_state=0)\n",
    "\n",
    "# Train and tune the models\n",
    "grids_pca = {}\n",
    "for model_name, model in models.items():\n",
    "    grids_pca[model_name] = GridSearchCV(estimator=model, param_grid=parameters[model_name],\n",
    "                                cv=cv, scoring='neg_mean_squared_error')\n",
    "    grids_pca[model_name].fit(X_train_pca, y_train_pca)\n",
    "    best_params = grids_pca[model_name].best_params_\n",
    "    best_score = np.sqrt(-1*grids_pca[model_name].best_score_)\n",
    "    \n",
    "    print(f'Best parameters for {model_name}: {best_params}')\n",
    "    print(f'Best RMSE for {model_name}: {best_score}')"
   ]
  },
  {
   "cell_type": "code",
   "execution_count": 16,
   "id": "f7204019",
   "metadata": {
    "execution": {
     "iopub.execute_input": "2023-08-10T17:38:37.984502Z",
     "iopub.status.busy": "2023-08-10T17:38:37.984031Z",
     "iopub.status.idle": "2023-08-10T17:45:39.216277Z",
     "shell.execute_reply": "2023-08-10T17:45:39.214143Z"
    },
    "papermill": {
     "duration": 421.257573,
     "end_time": "2023-08-10T17:45:39.229393",
     "exception": false,
     "start_time": "2023-08-10T17:38:37.971820",
     "status": "completed"
    },
    "tags": []
   },
   "outputs": [
    {
     "name": "stdout",
     "output_type": "stream",
     "text": [
      "Fitting 4 folds for each of 120 candidates, totalling 480 fits\n"
     ]
    },
    {
     "name": "stderr",
     "output_type": "stream",
     "text": [
      "/opt/conda/lib/python3.10/site-packages/scipy/__init__.py:146: UserWarning: A NumPy version >=1.16.5 and <1.23.0 is required for this version of SciPy (detected version 1.23.5\n",
      "  warnings.warn(f\"A NumPy version >={np_minversion} and <{np_maxversion}\"\n",
      "/opt/conda/lib/python3.10/site-packages/scipy/__init__.py:146: UserWarning: A NumPy version >=1.16.5 and <1.23.0 is required for this version of SciPy (detected version 1.23.5\n",
      "  warnings.warn(f\"A NumPy version >={np_minversion} and <{np_maxversion}\"\n",
      "/opt/conda/lib/python3.10/site-packages/scipy/__init__.py:146: UserWarning: A NumPy version >=1.16.5 and <1.23.0 is required for this version of SciPy (detected version 1.23.5\n",
      "  warnings.warn(f\"A NumPy version >={np_minversion} and <{np_maxversion}\"\n",
      "/opt/conda/lib/python3.10/site-packages/scipy/__init__.py:146: UserWarning: A NumPy version >=1.16.5 and <1.23.0 is required for this version of SciPy (detected version 1.23.5\n",
      "  warnings.warn(f\"A NumPy version >={np_minversion} and <{np_maxversion}\"\n"
     ]
    },
    {
     "name": "stdout",
     "output_type": "stream",
     "text": [
      "Best params: {'activation': 'tanh', 'alpha': 1, 'hidden_layer_sizes': (10, 10, 10), 'learning_rate': 'constant', 'solver': 'adam'}\n",
      "Best score: 0.18937448249515298\n"
     ]
    }
   ],
   "source": [
    "# Re-run the neural network with pca data\n",
    "X_train_scaled_pca = X_train_pca.copy()\n",
    "X_valid_scaled_pca = X_valid_pca.copy()\n",
    "\n",
    "# Create a multi layer perception regressor\n",
    "mlp = MLPRegressor(random_state=0, max_iter=10000, n_iter_no_change=3,learning_rate=0.002)\n",
    "\n",
    "param_grid = {\n",
    "    'hidden_layer_sizes': [(10), (10,10), (10,10,10), (25)],\n",
    "    'activation': ['relu', 'tanh'],\n",
    "    'solver': ['adam'],\n",
    "    'alpha': [0.0001, 0.001, 0.01, 0.1, 1], # Used more alpha values to look for better score\n",
    "    'learning_rate': ['constant', 'invscaling', 'adaptive']\n",
    "}\n",
    "\n",
    "grid_search_mlp_pca = GridSearchCV(mlp, param_grid, cv=4, n_jobs=-1, scoring='neg_mean_squared_error',\n",
    "                               verbose=1)\n",
    "grid_search_mlp_pca.fit(X_train_scaled_pca, y_train)\n",
    "\n",
    "print(f'Best params: {grid_search_mlp_pca.best_params_}')\n",
    "best_score = np.sqrt(-1 * grid_search_mlp_pca.best_score_)\n",
    "print(f'Best score: {best_score}')"
   ]
  },
  {
   "cell_type": "code",
   "execution_count": 17,
   "id": "a278b78b",
   "metadata": {
    "execution": {
     "iopub.execute_input": "2023-08-10T17:45:39.254076Z",
     "iopub.status.busy": "2023-08-10T17:45:39.253699Z",
     "iopub.status.idle": "2023-08-10T17:45:39.433893Z",
     "shell.execute_reply": "2023-08-10T17:45:39.432086Z"
    },
    "papermill": {
     "duration": 0.195584,
     "end_time": "2023-08-10T17:45:39.436209",
     "exception": false,
     "start_time": "2023-08-10T17:45:39.240625",
     "status": "completed"
    },
    "tags": []
   },
   "outputs": [
    {
     "name": "stdout",
     "output_type": "stream",
     "text": [
      "LinearRegression:91251190.74573272\n",
      "XGBoost:0.12662642340024052\n",
      "RandomForest:0.1377932069478775\n"
     ]
    }
   ],
   "source": [
    "from sklearn.metrics import mean_squared_error\n",
    "\n",
    "for i in grids.keys():\n",
    "    print(i + \":\" + str(np.sqrt(mean_squared_error(grids[i].predict(X_valid), y_valid))))"
   ]
  },
  {
   "cell_type": "code",
   "execution_count": 18,
   "id": "d6c8c240",
   "metadata": {
    "execution": {
     "iopub.execute_input": "2023-08-10T17:45:39.461037Z",
     "iopub.status.busy": "2023-08-10T17:45:39.460661Z",
     "iopub.status.idle": "2023-08-10T17:45:39.631353Z",
     "shell.execute_reply": "2023-08-10T17:45:39.630167Z"
    },
    "papermill": {
     "duration": 0.185889,
     "end_time": "2023-08-10T17:45:39.633679",
     "exception": false,
     "start_time": "2023-08-10T17:45:39.447790",
     "status": "completed"
    },
    "tags": []
   },
   "outputs": [
    {
     "name": "stdout",
     "output_type": "stream",
     "text": [
      "LinearRegression:0.19360636157541292\n",
      "XGBoost:0.13473766139883064\n",
      "RandomForest:0.1438579778357472\n"
     ]
    }
   ],
   "source": [
    "for i in grids.keys():\n",
    "    print(i + \":\" + str(np.sqrt(mean_squared_error(grids_pca[i].predict(X_valid_pca), y_valid_pca))))"
   ]
  },
  {
   "cell_type": "markdown",
   "id": "c9ee18b2",
   "metadata": {
    "papermill": {
     "duration": 0.01198,
     "end_time": "2023-08-10T17:45:39.657480",
     "exception": false,
     "start_time": "2023-08-10T17:45:39.645500",
     "status": "completed"
    },
    "tags": []
   },
   "source": [
    "As the xgboost for the data without pca had the best value of mean squared error, I will run it on the test data"
   ]
  },
  {
   "cell_type": "code",
   "execution_count": 19,
   "id": "9d9d35fa",
   "metadata": {
    "execution": {
     "iopub.execute_input": "2023-08-10T17:45:39.682895Z",
     "iopub.status.busy": "2023-08-10T17:45:39.681886Z",
     "iopub.status.idle": "2023-08-10T17:45:39.693088Z",
     "shell.execute_reply": "2023-08-10T17:45:39.691371Z"
    },
    "papermill": {
     "duration": 0.027044,
     "end_time": "2023-08-10T17:45:39.696051",
     "exception": false,
     "start_time": "2023-08-10T17:45:39.669007",
     "status": "completed"
    },
    "tags": []
   },
   "outputs": [
    {
     "name": "stdout",
     "output_type": "stream",
     "text": [
      "0.24567933073316425\n"
     ]
    }
   ],
   "source": [
    "print(str(np.sqrt(mean_squared_error(grid_search_mlp.predict(X_valid_scaled), y_valid))))"
   ]
  },
  {
   "cell_type": "code",
   "execution_count": 20,
   "id": "bc1b79b6",
   "metadata": {
    "execution": {
     "iopub.execute_input": "2023-08-10T17:45:39.738239Z",
     "iopub.status.busy": "2023-08-10T17:45:39.737624Z",
     "iopub.status.idle": "2023-08-10T17:45:39.747495Z",
     "shell.execute_reply": "2023-08-10T17:45:39.746090Z"
    },
    "papermill": {
     "duration": 0.034225,
     "end_time": "2023-08-10T17:45:39.750239",
     "exception": false,
     "start_time": "2023-08-10T17:45:39.716014",
     "status": "completed"
    },
    "tags": []
   },
   "outputs": [
    {
     "name": "stdout",
     "output_type": "stream",
     "text": [
      "0.18723362815556313\n"
     ]
    }
   ],
   "source": [
    "print(str(np.sqrt(mean_squared_error(grid_search_mlp_pca.predict(X_valid_scaled_pca), y_valid_pca))))"
   ]
  },
  {
   "cell_type": "code",
   "execution_count": 21,
   "id": "19c637a3",
   "metadata": {
    "execution": {
     "iopub.execute_input": "2023-08-10T17:45:39.792929Z",
     "iopub.status.busy": "2023-08-10T17:45:39.792379Z",
     "iopub.status.idle": "2023-08-10T17:45:39.838433Z",
     "shell.execute_reply": "2023-08-10T17:45:39.837624Z"
    },
    "papermill": {
     "duration": 0.070358,
     "end_time": "2023-08-10T17:45:39.840726",
     "exception": false,
     "start_time": "2023-08-10T17:45:39.770368",
     "status": "completed"
    },
    "tags": []
   },
   "outputs": [],
   "source": [
    "df_test_preprocessed = preprocessor.transform(df_test)"
   ]
  },
  {
   "cell_type": "code",
   "execution_count": 22,
   "id": "372c1b00",
   "metadata": {
    "execution": {
     "iopub.execute_input": "2023-08-10T17:45:39.866741Z",
     "iopub.status.busy": "2023-08-10T17:45:39.866209Z",
     "iopub.status.idle": "2023-08-10T17:45:39.879476Z",
     "shell.execute_reply": "2023-08-10T17:45:39.878598Z"
    },
    "papermill": {
     "duration": 0.028947,
     "end_time": "2023-08-10T17:45:39.881811",
     "exception": false,
     "start_time": "2023-08-10T17:45:39.852864",
     "status": "completed"
    },
    "tags": []
   },
   "outputs": [],
   "source": [
    "xgboost_y = np.exp(grids['XGBoost'].predict(df_test_preprocessed))# exp to undo the logarithmic change\n",
    "df_xgb_out = df_test[['Id']].copy()\n",
    "df_xgb_out['SalePrice'] = xgboost_y"
   ]
  },
  {
   "cell_type": "code",
   "execution_count": 23,
   "id": "838b0eb8",
   "metadata": {
    "execution": {
     "iopub.execute_input": "2023-08-10T17:45:39.907279Z",
     "iopub.status.busy": "2023-08-10T17:45:39.906937Z",
     "iopub.status.idle": "2023-08-10T17:45:39.918682Z",
     "shell.execute_reply": "2023-08-10T17:45:39.917464Z"
    },
    "papermill": {
     "duration": 0.027012,
     "end_time": "2023-08-10T17:45:39.921167",
     "exception": false,
     "start_time": "2023-08-10T17:45:39.894155",
     "status": "completed"
    },
    "tags": []
   },
   "outputs": [],
   "source": [
    "df_xgb_out.to_csv('submission.csv', index=False)"
   ]
  }
 ],
 "metadata": {
  "kernelspec": {
   "display_name": "Python 3",
   "language": "python",
   "name": "python3"
  },
  "language_info": {
   "codemirror_mode": {
    "name": "ipython",
    "version": 3
   },
   "file_extension": ".py",
   "mimetype": "text/x-python",
   "name": "python",
   "nbconvert_exporter": "python",
   "pygments_lexer": "ipython3",
   "version": "3.10.12"
  },
  "papermill": {
   "default_parameters": {},
   "duration": 2443.786118,
   "end_time": "2023-08-10T17:45:42.557929",
   "environment_variables": {},
   "exception": null,
   "input_path": "__notebook__.ipynb",
   "output_path": "__notebook__.ipynb",
   "parameters": {},
   "start_time": "2023-08-10T17:04:58.771811",
   "version": "2.4.0"
  }
 },
 "nbformat": 4,
 "nbformat_minor": 5
}
